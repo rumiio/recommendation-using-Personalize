{
 "cells": [
  {
   "cell_type": "markdown",
   "metadata": {},
   "source": [
    "# Clean up Amazon Personalize resources\n",
    "This notebook deletes the set of solutions (along with their corresponding\n",
    "solution versions) and campaigns from Amazon Personalize. It also deletes the event tracker.\n",
    "\n",
    "Note that the datasets and the dataset group are left in place, as they may be reused. The monthly charges for ongoing storage of imported data, and the data we uploaded to S3, \n",
    "are relatively inexpensive."
   ]
  },
  {
   "cell_type": "code",
   "execution_count": null,
   "metadata": {},
   "outputs": [],
   "source": [
    "account_num = '<your-account-num>'"
   ]
  },
  {
   "cell_type": "code",
   "execution_count": null,
   "metadata": {},
   "outputs": [],
   "source": [
    "import json\n",
    "import boto3\n",
    "import time\n",
    "\n",
    "file_name = 'DEMO-movie-lens-100k.csv'\n",
    "\n",
    "region = boto3.Session().region_name # or replace with your preferred region\n",
    "print(region)\n",
    "\n",
    "dataset_group_name = 'sf-loft-recs-dataset-group'\n",
    "dataset_group_arn = 'arn:aws:personalize:{}:{}:dataset-group/{}'.format(region, \n",
    "                                                                        account_num, \n",
    "                                                                        dataset_group_name)\n",
    "\n",
    "MAX_WAIT_TIME = time.time() + 3*60*60 # 3 hours"
   ]
  },
  {
   "cell_type": "code",
   "execution_count": null,
   "metadata": {},
   "outputs": [],
   "source": [
    "personalize = boto3.client('personalize')\n",
    "personalize_runtime = boto3.client('personalize-runtime')"
   ]
  },
  {
   "cell_type": "markdown",
   "metadata": {},
   "source": [
    "## Delete campaigns"
   ]
  },
  {
   "cell_type": "code",
   "execution_count": null,
   "metadata": {},
   "outputs": [],
   "source": [
    "def delete_campaign(c):\n",
    "    try:\n",
    "        personalize.delete_campaign(campaignArn = c)\n",
    "    except Exception as e:\n",
    "        pass\n",
    "        \n",
    "def delete_campaigns():\n",
    "    delete_campaign('arn:aws:personalize:{}:{}:campaign/similar-items-campaign'.format(region, account_num))\n",
    "    delete_campaign('arn:aws:personalize:{}:{}:campaign/personal-rankings-campaign'.format(region, account_num))\n",
    "    delete_campaign('arn:aws:personalize:{}:{}:campaign/sf-loft-lab-recs-campaign'.format(region, account_num))"
   ]
  },
  {
   "cell_type": "code",
   "execution_count": null,
   "metadata": {},
   "outputs": [],
   "source": [
    "delete_campaigns()"
   ]
  },
  {
   "cell_type": "code",
   "execution_count": null,
   "metadata": {},
   "outputs": [],
   "source": [
    "print('Wating for campaign deletion to complete...')\n",
    "time.sleep(30)"
   ]
  },
  {
   "cell_type": "markdown",
   "metadata": {},
   "source": [
    "## Delete solutions"
   ]
  },
  {
   "cell_type": "code",
   "execution_count": null,
   "metadata": {},
   "outputs": [],
   "source": [
    "def delete_solution(s):\n",
    "    try:\n",
    "        personalize.delete_solution(solutionArn = s)\n",
    "    except Exception as e:\n",
    "        pass\n",
    "    \n",
    "def delete_solutions():\n",
    "    delete_solution('arn:aws:personalize:{}:{}:solution/rankings-solution'.format(region, account_num))\n",
    "    delete_solution('arn:aws:personalize:{}:{}:solution/similar-items-solutions'.format(region, account_num))\n",
    "    delete_solution('arn:aws:personalize:{}:{}:solution/sf-loft-lab-recs-solution'.format(region, account_num))    "
   ]
  },
  {
   "cell_type": "code",
   "execution_count": null,
   "metadata": {},
   "outputs": [],
   "source": [
    "delete_solutions()"
   ]
  },
  {
   "cell_type": "code",
   "execution_count": null,
   "metadata": {},
   "outputs": [],
   "source": [
    "print('Waiting for solution deletion to complete...')\n",
    "time.sleep(60)"
   ]
  },
  {
   "cell_type": "markdown",
   "metadata": {},
   "source": [
    "## Delete dataset"
   ]
  },
  {
   "cell_type": "code",
   "execution_count": null,
   "metadata": {},
   "outputs": [],
   "source": [
    "def delete_dataset(d):\n",
    "    try:\n",
    "        print('Deleting {}'.format(d))\n",
    "        personalize.delete_dataset(datasetArn=d)\n",
    "    except Exception as e:\n",
    "        print(e)\n",
    "        pass\n",
    "\n",
    "def delete_datasets():\n",
    "    delete_dataset('arn:aws:personalize:{}:{}:dataset/{}/EVENT_INTERACTIONS'.format(region, \n",
    "                                                                                    account_num, \n",
    "                                                                                    dataset_group_name))\n",
    "    delete_dataset('arn:aws:personalize:{}:{}:dataset/{}/INTERACTIONS'.format(region, account_num, dataset_group_name))\n",
    "    delete_dataset('arn:aws:personalize:{}:{}:dataset/{}/USERS'.format(region, account_num, dataset_group_name))\n",
    "    delete_dataset('arn:aws:personalize:{}:{}:dataset/{}/ITEMS'.format(region, account_num, dataset_group_name))"
   ]
  },
  {
   "cell_type": "code",
   "execution_count": null,
   "metadata": {},
   "outputs": [],
   "source": [
    "delete_datasets()"
   ]
  },
  {
   "cell_type": "code",
   "execution_count": null,
   "metadata": {},
   "outputs": [],
   "source": [
    "print('Waiting for dataset deletion to complete...')\n",
    "time.sleep(30)"
   ]
  },
  {
   "cell_type": "markdown",
   "metadata": {},
   "source": [
    "## Delete schema"
   ]
  },
  {
   "cell_type": "code",
   "execution_count": null,
   "metadata": {},
   "outputs": [],
   "source": [
    "def delete_schema(s):\n",
    "    try:\n",
    "        print('Deleting {}'.format(s))\n",
    "        personalize.delete_schema(schemaArn=s)\n",
    "    except Exception as e:\n",
    "        print(e)\n",
    "        pass\n",
    "\n",
    "def delete_schemas():\n",
    "    delete_schema('arn:aws:personalize:{}:{}:schema/{}'.format(region, account_num, 'sf-loft-lab-recs-schema'))"
   ]
  },
  {
   "cell_type": "code",
   "execution_count": null,
   "metadata": {},
   "outputs": [],
   "source": [
    "delete_schemas()"
   ]
  },
  {
   "cell_type": "markdown",
   "metadata": {},
   "source": [
    "## Delete event trackers and dataset group"
   ]
  },
  {
   "cell_type": "code",
   "execution_count": null,
   "metadata": {},
   "outputs": [],
   "source": [
    "resp = personalize.list_event_trackers()\n",
    "trackers = resp['eventTrackers']\n",
    "for i in range(len(trackers)):\n",
    "    print('name: {}, arn: {}'.format(trackers[i]['name'], trackers[i]['eventTrackerArn']))\n",
    "    personalize.delete_event_tracker(eventTrackerArn=trackers[i]['eventTrackerArn'])"
   ]
  },
  {
   "cell_type": "code",
   "execution_count": null,
   "metadata": {},
   "outputs": [],
   "source": [
    "print('Waiting for event tracker deletion to complete...')\n",
    "time.sleep(30)"
   ]
  },
  {
   "cell_type": "code",
   "execution_count": null,
   "metadata": {},
   "outputs": [],
   "source": [
    "try:\n",
    "    personalize.delete_dataset_group(datasetGroupArn='arn:aws:personalize:{}:{}:dataset-group/{}'.format(region, \n",
    "                                                                                                         account_num, \n",
    "                                                                                                         dataset_group_name))\n",
    "except Exception as e:\n",
    "    print('Could not delete dataset group, exception: \\n{}'.format(e))\n",
    "    pass"
   ]
  },
  {
   "cell_type": "code",
   "execution_count": null,
   "metadata": {},
   "outputs": [],
   "source": []
  }
 ],
 "metadata": {
  "kernelspec": {
   "display_name": "conda_python3",
   "language": "python",
   "name": "conda_python3"
  },
  "language_info": {
   "codemirror_mode": {
    "name": "ipython",
    "version": 3
   },
   "file_extension": ".py",
   "mimetype": "text/x-python",
   "name": "python",
   "nbconvert_exporter": "python",
   "pygments_lexer": "ipython3",
   "version": "3.6.5"
  }
 },
 "nbformat": 4,
 "nbformat_minor": 2
}
